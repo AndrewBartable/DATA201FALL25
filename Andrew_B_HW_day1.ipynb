{
 "cells": [
  {
   "cell_type": "markdown",
   "id": "3ee4f51c-e4db-4665-a559-c701fdbf47b5",
   "metadata": {},
   "source": [
    "## Intermediate Data Science\n",
    "\n",
    "#### University of Redlands - DATA 201\n",
    "#### Prof: Joanna Bieri [joanna_bieri@redlands.edu](mailto:joanna_bieri@redlands.edu)\n",
    "#### [Class Website: data201.joannabieri.com](https://joannabieri.com/data201_intermediate.html)"
   ]
  },
  {
   "cell_type": "markdown",
   "id": "9ad18c6f-984e-4743-997a-feed9d43d243",
   "metadata": {},
   "source": [
    "## Computer Set Up"
   ]
  },
  {
   "cell_type": "code",
   "execution_count": null,
   "id": "a0a6e073-9c4b-4c0f-9b0c-e6f45c72ef03",
   "metadata": {},
   "outputs": [],
   "source": [
    "!python --version"
   ]
  },
  {
   "cell_type": "code",
   "execution_count": null,
   "id": "adf4a7d3-b452-468f-9108-8173e236ba41",
   "metadata": {},
   "outputs": [],
   "source": [
    "!conda --version"
   ]
  },
  {
   "cell_type": "code",
   "execution_count": null,
   "id": "0beec1df-0868-4a19-ba62-c0bc8654fb98",
   "metadata": {},
   "outputs": [],
   "source": [
    "!git --version"
   ]
  },
  {
   "cell_type": "markdown",
   "id": "a3212ecb-0e5d-4af9-9c23-9da3f7d2c6e3",
   "metadata": {},
   "source": [
    "**Clone the Repo for our Class**\n",
    "\n",
    "<a href=\"https://github.com/Redlands-DATA201/FALL25\" target=\"_blank\">Redlands-DATA201/FALL2025</a>"
   ]
  },
  {
   "cell_type": "code",
   "execution_count": 6,
   "id": "d0a237b4-65d5-4c30-a428-5df8348361b8",
   "metadata": {},
   "outputs": [],
   "source": [
    "# # Depending on your setup you might need to install modules\n",
    "# !conda install -y numpy\n",
    "# !conda install -y pandas\n",
    "# !conda install -y matplotlib\n",
    "# !conda install -y plotly"
   ]
  },
  {
   "cell_type": "code",
   "execution_count": 20,
   "id": "455a007e-f738-4c0b-b885-7c936d5367b9",
   "metadata": {},
   "outputs": [],
   "source": [
    "# Some basic package imports\n",
    "import numpy as np\n",
    "import pandas as pd\n",
    "\n",
    "import matplotlib.pyplot as plt\n",
    "import plotly.express as px\n",
    "from plotly.subplots import make_subplots\n",
    "import plotly.io as pio\n",
    "pio.renderers.defaule = 'colab'"
   ]
  },
  {
   "cell_type": "markdown",
   "id": "e5225f08-a34f-490c-9ca1-24f8cd3b9253",
   "metadata": {},
   "source": [
    "# Review of DATA 101\n",
    "\n",
    "For our review we are going to jump in and do some Exploratory Data Analysis (EDA) on a data set that we have seen before. This time you are just given a .csv file and your goal is to analyze it - answering these questions.\n",
    "\n",
    "**I expect this to feel impossible at first!!!** but if you all work together, share code, and look things up as needed, I know you can do it!\n",
    "\n",
    "#### This was a Homework Assignment in Data 101 - but see how much you can figure out on your own!\n",
    "\n",
    "* Answer the following questions using reproducible Python code.\n",
    "    - What does it mean to be reproducible? This means someone else at any time in the future can run and understand your code almost like reading a blog post.\n",
    "* For each question, state your answer in a sentence, e.g. \"In this sample, the first three common names of purchasers are ...\".\n",
    "* Note that the answers to all questions are within the context of this particular sample of sales, i.e. you shouldn't make inferences about the population of all Lego sales based on this sample.\n",
    "\n",
    "0.  Read in the .csv file using Pandas and display it\n",
    "\n",
    "1.  Describe what you see in the data set (variables, observations, etc)\n",
    "\n",
    "2.  What are the three most common first names of purchasers?\n",
    "\n",
    "3.  What are the three most common themes of Lego sets purchased?\n",
    "\n",
    "4.  Among the most common theme of Lego sets purchased, what is the most common subtheme?\n",
    "\n",
    "5.  Create data frames for each of the ages in the following categories: \"18 and under\", \"19 - 25\", \"26 - 35\", \"36 - 50\", \"51 and over\". HINT - use masks\n",
    "\n",
    "6.  Which age group has purchased the highest number of Lego sets.\n",
    "\n",
    "7.  Which age group has spent the most money on Legos?\n",
    "\n",
    "8.  Which Lego theme has made the most money for Lego?\n",
    "\n",
    "9.  Which area code has spent the most money on Legos? In the US the area code is the first 3 digits of a phone number. Then using a for loop calculate the average money spent per customer for each area code.\n",
    "\n",
    "10.  Come up with a question you want to answer using these data, and write it down. Then, create a data visualization that answers the question, and explain how your visualization answers the question.\n",
    "\n",
    "**This exersize comes from: https://datasciencebox.org/course-materials/hw-instructions/hw-05/hw-05-legos**"
   ]
  },
  {
   "cell_type": "code",
   "execution_count": 30,
   "id": "67a96804-0133-4676-ae25-ebfe9e3e706a",
   "metadata": {},
   "outputs": [
    {
     "data": {
      "text/html": [
       "<div>\n",
       "<style scoped>\n",
       "    .dataframe tbody tr th:only-of-type {\n",
       "        vertical-align: middle;\n",
       "    }\n",
       "\n",
       "    .dataframe tbody tr th {\n",
       "        vertical-align: top;\n",
       "    }\n",
       "\n",
       "    .dataframe thead th {\n",
       "        text-align: right;\n",
       "    }\n",
       "</style>\n",
       "<table border=\"1\" class=\"dataframe\">\n",
       "  <thead>\n",
       "    <tr style=\"text-align: right;\">\n",
       "      <th></th>\n",
       "      <th>first_name</th>\n",
       "      <th>last_name</th>\n",
       "      <th>age</th>\n",
       "      <th>phone_number</th>\n",
       "      <th>set_id</th>\n",
       "      <th>number</th>\n",
       "      <th>theme</th>\n",
       "      <th>subtheme</th>\n",
       "      <th>year</th>\n",
       "      <th>name</th>\n",
       "      <th>pieces</th>\n",
       "      <th>us_price</th>\n",
       "      <th>image_url</th>\n",
       "      <th>quantity</th>\n",
       "    </tr>\n",
       "  </thead>\n",
       "  <tbody>\n",
       "    <tr>\n",
       "      <th>0</th>\n",
       "      <td>Kimberly</td>\n",
       "      <td>Beckstead</td>\n",
       "      <td>24</td>\n",
       "      <td>216-555-2549</td>\n",
       "      <td>24701</td>\n",
       "      <td>76062</td>\n",
       "      <td>DC Comics Super Heroes</td>\n",
       "      <td>Mighty Micros</td>\n",
       "      <td>2018</td>\n",
       "      <td>Robin vs. Bane</td>\n",
       "      <td>77.0</td>\n",
       "      <td>9.99</td>\n",
       "      <td>http://images.brickset.com/sets/images/76062-1...</td>\n",
       "      <td>1</td>\n",
       "    </tr>\n",
       "    <tr>\n",
       "      <th>1</th>\n",
       "      <td>Neel</td>\n",
       "      <td>Garvin</td>\n",
       "      <td>35</td>\n",
       "      <td>819-555-3189</td>\n",
       "      <td>25626</td>\n",
       "      <td>70595</td>\n",
       "      <td>Ninjago</td>\n",
       "      <td>Rise of the Villains</td>\n",
       "      <td>2018</td>\n",
       "      <td>Ultra Stealth Raider</td>\n",
       "      <td>1093.0</td>\n",
       "      <td>119.99</td>\n",
       "      <td>http://images.brickset.com/sets/images/70595-1...</td>\n",
       "      <td>1</td>\n",
       "    </tr>\n",
       "    <tr>\n",
       "      <th>2</th>\n",
       "      <td>Neel</td>\n",
       "      <td>Garvin</td>\n",
       "      <td>35</td>\n",
       "      <td>819-555-3189</td>\n",
       "      <td>24665</td>\n",
       "      <td>21031</td>\n",
       "      <td>Architecture</td>\n",
       "      <td>NaN</td>\n",
       "      <td>2018</td>\n",
       "      <td>Burj Khalifa</td>\n",
       "      <td>333.0</td>\n",
       "      <td>39.99</td>\n",
       "      <td>http://images.brickset.com/sets/images/21031-1...</td>\n",
       "      <td>1</td>\n",
       "    </tr>\n",
       "    <tr>\n",
       "      <th>3</th>\n",
       "      <td>Chelsea</td>\n",
       "      <td>Bouchard</td>\n",
       "      <td>41</td>\n",
       "      <td>NaN</td>\n",
       "      <td>24695</td>\n",
       "      <td>31048</td>\n",
       "      <td>Creator</td>\n",
       "      <td>NaN</td>\n",
       "      <td>2018</td>\n",
       "      <td>Lakeside Lodge</td>\n",
       "      <td>368.0</td>\n",
       "      <td>29.99</td>\n",
       "      <td>http://images.brickset.com/sets/images/31048-1...</td>\n",
       "      <td>1</td>\n",
       "    </tr>\n",
       "    <tr>\n",
       "      <th>4</th>\n",
       "      <td>Chelsea</td>\n",
       "      <td>Bouchard</td>\n",
       "      <td>41</td>\n",
       "      <td>NaN</td>\n",
       "      <td>25626</td>\n",
       "      <td>70595</td>\n",
       "      <td>Ninjago</td>\n",
       "      <td>Rise of the Villains</td>\n",
       "      <td>2018</td>\n",
       "      <td>Ultra Stealth Raider</td>\n",
       "      <td>1093.0</td>\n",
       "      <td>119.99</td>\n",
       "      <td>http://images.brickset.com/sets/images/70595-1...</td>\n",
       "      <td>1</td>\n",
       "    </tr>\n",
       "    <tr>\n",
       "      <th>...</th>\n",
       "      <td>...</td>\n",
       "      <td>...</td>\n",
       "      <td>...</td>\n",
       "      <td>...</td>\n",
       "      <td>...</td>\n",
       "      <td>...</td>\n",
       "      <td>...</td>\n",
       "      <td>...</td>\n",
       "      <td>...</td>\n",
       "      <td>...</td>\n",
       "      <td>...</td>\n",
       "      <td>...</td>\n",
       "      <td>...</td>\n",
       "      <td>...</td>\n",
       "    </tr>\n",
       "    <tr>\n",
       "      <th>615</th>\n",
       "      <td>Talise</td>\n",
       "      <td>Nieukirk</td>\n",
       "      <td>16</td>\n",
       "      <td>801-555-2343</td>\n",
       "      <td>24902</td>\n",
       "      <td>41556</td>\n",
       "      <td>Mixels</td>\n",
       "      <td>Series 7</td>\n",
       "      <td>2018</td>\n",
       "      <td>Tiketz</td>\n",
       "      <td>62.0</td>\n",
       "      <td>4.99</td>\n",
       "      <td>http://images.brickset.com/sets/images/41556-1...</td>\n",
       "      <td>2</td>\n",
       "    </tr>\n",
       "    <tr>\n",
       "      <th>616</th>\n",
       "      <td>Spencer</td>\n",
       "      <td>Morgan</td>\n",
       "      <td>28</td>\n",
       "      <td>784-555-3455</td>\n",
       "      <td>26041</td>\n",
       "      <td>41580</td>\n",
       "      <td>Mixels</td>\n",
       "      <td>Series 9</td>\n",
       "      <td>2018</td>\n",
       "      <td>Myke</td>\n",
       "      <td>63.0</td>\n",
       "      <td>4.99</td>\n",
       "      <td>NaN</td>\n",
       "      <td>2</td>\n",
       "    </tr>\n",
       "    <tr>\n",
       "      <th>617</th>\n",
       "      <td>Spencer</td>\n",
       "      <td>Morgan</td>\n",
       "      <td>28</td>\n",
       "      <td>784-555-3455</td>\n",
       "      <td>26060</td>\n",
       "      <td>5005051</td>\n",
       "      <td>Gear</td>\n",
       "      <td>Digital Media</td>\n",
       "      <td>2018</td>\n",
       "      <td>Friends of Heartlake City Girlz 4 Life</td>\n",
       "      <td>NaN</td>\n",
       "      <td>19.99</td>\n",
       "      <td>NaN</td>\n",
       "      <td>1</td>\n",
       "    </tr>\n",
       "    <tr>\n",
       "      <th>618</th>\n",
       "      <td>Amelia</td>\n",
       "      <td>Hageman</td>\n",
       "      <td>40</td>\n",
       "      <td>336-555-1950</td>\n",
       "      <td>24702</td>\n",
       "      <td>76063</td>\n",
       "      <td>DC Comics Super Heroes</td>\n",
       "      <td>Mighty Micros</td>\n",
       "      <td>2018</td>\n",
       "      <td>The Flash vs. Captain Cold</td>\n",
       "      <td>88.0</td>\n",
       "      <td>9.99</td>\n",
       "      <td>http://images.brickset.com/sets/images/76063-1...</td>\n",
       "      <td>2</td>\n",
       "    </tr>\n",
       "    <tr>\n",
       "      <th>619</th>\n",
       "      <td>Amelia</td>\n",
       "      <td>Hageman</td>\n",
       "      <td>40</td>\n",
       "      <td>336-555-1950</td>\n",
       "      <td>24720</td>\n",
       "      <td>10830</td>\n",
       "      <td>Duplo</td>\n",
       "      <td>NaN</td>\n",
       "      <td>2018</td>\n",
       "      <td>Minnie's Café</td>\n",
       "      <td>27.0</td>\n",
       "      <td>19.99</td>\n",
       "      <td>http://images.brickset.com/sets/images/10830-1...</td>\n",
       "      <td>4</td>\n",
       "    </tr>\n",
       "  </tbody>\n",
       "</table>\n",
       "<p>620 rows × 14 columns</p>\n",
       "</div>"
      ],
      "text/plain": [
       "    first_name  last_name  age  phone_number  set_id   number  \\\n",
       "0     Kimberly  Beckstead   24  216-555-2549   24701    76062   \n",
       "1         Neel     Garvin   35  819-555-3189   25626    70595   \n",
       "2         Neel     Garvin   35  819-555-3189   24665    21031   \n",
       "3      Chelsea   Bouchard   41           NaN   24695    31048   \n",
       "4      Chelsea   Bouchard   41           NaN   25626    70595   \n",
       "..         ...        ...  ...           ...     ...      ...   \n",
       "615     Talise   Nieukirk   16  801-555-2343   24902    41556   \n",
       "616    Spencer     Morgan   28  784-555-3455   26041    41580   \n",
       "617    Spencer     Morgan   28  784-555-3455   26060  5005051   \n",
       "618     Amelia    Hageman   40  336-555-1950   24702    76063   \n",
       "619     Amelia    Hageman   40  336-555-1950   24720    10830   \n",
       "\n",
       "                      theme              subtheme  year  \\\n",
       "0    DC Comics Super Heroes         Mighty Micros  2018   \n",
       "1                   Ninjago  Rise of the Villains  2018   \n",
       "2              Architecture                   NaN  2018   \n",
       "3                   Creator                   NaN  2018   \n",
       "4                   Ninjago  Rise of the Villains  2018   \n",
       "..                      ...                   ...   ...   \n",
       "615                  Mixels              Series 7  2018   \n",
       "616                  Mixels              Series 9  2018   \n",
       "617                    Gear         Digital Media  2018   \n",
       "618  DC Comics Super Heroes         Mighty Micros  2018   \n",
       "619                   Duplo                   NaN  2018   \n",
       "\n",
       "                                       name  pieces  us_price  \\\n",
       "0                            Robin vs. Bane    77.0      9.99   \n",
       "1                      Ultra Stealth Raider  1093.0    119.99   \n",
       "2                              Burj Khalifa   333.0     39.99   \n",
       "3                            Lakeside Lodge   368.0     29.99   \n",
       "4                      Ultra Stealth Raider  1093.0    119.99   \n",
       "..                                      ...     ...       ...   \n",
       "615                                  Tiketz    62.0      4.99   \n",
       "616                                    Myke    63.0      4.99   \n",
       "617  Friends of Heartlake City Girlz 4 Life     NaN     19.99   \n",
       "618              The Flash vs. Captain Cold    88.0      9.99   \n",
       "619                           Minnie's Café    27.0     19.99   \n",
       "\n",
       "                                             image_url  quantity  \n",
       "0    http://images.brickset.com/sets/images/76062-1...         1  \n",
       "1    http://images.brickset.com/sets/images/70595-1...         1  \n",
       "2    http://images.brickset.com/sets/images/21031-1...         1  \n",
       "3    http://images.brickset.com/sets/images/31048-1...         1  \n",
       "4    http://images.brickset.com/sets/images/70595-1...         1  \n",
       "..                                                 ...       ...  \n",
       "615  http://images.brickset.com/sets/images/41556-1...         2  \n",
       "616                                                NaN         2  \n",
       "617                                                NaN         1  \n",
       "618  http://images.brickset.com/sets/images/76063-1...         2  \n",
       "619  http://images.brickset.com/sets/images/10830-1...         4  \n",
       "\n",
       "[620 rows x 14 columns]"
      ]
     },
     "execution_count": 30,
     "metadata": {},
     "output_type": "execute_result"
    }
   ],
   "source": [
    "file_path = 'C:/Users/ambsc/Downloads/DATA201/FALL25/notebooks/Day1/data/lego-sales.csv'\n",
    "\n",
    "df = pd.read_csv(file_path)\n",
    "df\n"
   ]
  },
  {
   "cell_type": "markdown",
   "id": "d0511b95-bff8-45c9-8959-d0c3096eae64",
   "metadata": {},
   "source": [
    "Q1. Variables I can observe in the csv data are first_name, last_name, age, phone_number, set_id, number, theme, subtheme, year, name, pieces, and us_price. I would imagine this is a data set of purchasers of lego products. first and last name, phone number, age, would correspond to the purchasers. The rest of the information corresponds to the set they produced, the number of pieces, the theme of the set, the name of the set, and the price of the set."
   ]
  },
  {
   "cell_type": "code",
   "execution_count": 56,
   "id": "100e0186-8360-42c3-b61c-2e136be9666e",
   "metadata": {},
   "outputs": [
    {
     "name": "stdout",
     "output_type": "stream",
     "text": [
      "first_name\n",
      "Jackson    13\n",
      "Joseph     11\n",
      "Jacob      11\n",
      "Name: count, dtype: int64\n"
     ]
    }
   ],
   "source": [
    "top_three_names = name_counts.head(3)\n",
    "print(top_three_names)\n",
    "\n"
   ]
  },
  {
   "cell_type": "markdown",
   "id": "29c83036-6aff-4662-909b-027282aca37a",
   "metadata": {},
   "source": [
    "Q2. The most common names of purchasers are Jackson coming in at 13, Joseph coming in at 11, and Jacon also coming in at 11. "
   ]
  },
  {
   "cell_type": "code",
   "execution_count": 57,
   "id": "9f0c63b8-8cbd-47b8-af9c-bbf557d4029f",
   "metadata": {},
   "outputs": [
    {
     "name": "stdout",
     "output_type": "stream",
     "text": [
      "theme\n",
      "Star Wars       75\n",
      "Nexo Knights    64\n",
      "Gear            55\n",
      "Name: count, dtype: int64\n"
     ]
    }
   ],
   "source": [
    "top_three_themes = theme_counts.head(3)\n",
    "print(top_three_themes)\n",
    "\n"
   ]
  },
  {
   "cell_type": "markdown",
   "id": "357bfe81-bd4c-4c68-97f6-a285d9fb8ce8",
   "metadata": {},
   "source": [
    "Q3. The three most common themes of lego sets purchased are Star Wars at 75 purchases, Nexo Knights at 64 purchases, and Gearat 55 purchases"
   ]
  },
  {
   "cell_type": "code",
   "execution_count": 60,
   "id": "0b045058-71f7-4371-acb7-27139a004f6d",
   "metadata": {},
   "outputs": [
    {
     "name": "stdout",
     "output_type": "stream",
     "text": [
      "The Force Awakens\n"
     ]
    }
   ],
   "source": [
    "top_theme = df['theme'].value_counts().idxmax()\n",
    "most_common_subtheme = df[df['theme'] == top_theme]['subtheme'].value_counts().idxmax()\n",
    "print(most_common_subtheme)\n"
   ]
  },
  {
   "cell_type": "markdown",
   "id": "fa13136d-d936-47fd-9144-370cc1b07743",
   "metadata": {},
   "source": [
    "Q4. The most common subtheme in the most common theme of Star Wars is The Force Awakens"
   ]
  },
  {
   "cell_type": "code",
   "execution_count": 63,
   "id": "1f8e0c57-1c5c-4922-94c5-d1f9ae9b415a",
   "metadata": {},
   "outputs": [
    {
     "name": "stdout",
     "output_type": "stream",
     "text": [
      "30 129 183 216 62\n"
     ]
    }
   ],
   "source": [
    "#Question 5\n",
    "df_18_under = df[df['age'] <= 18]\n",
    "\n",
    "df_19_25 = df[(df['age'] >= 19) & (df['age'] <= 25)]\n",
    "\n",
    "df_26_35 = df[(df['age'] >= 26) & (df['age'] <= 35)]\n",
    "\n",
    "df_36_50 = df[(df['age'] >= 36) & (df['age'] <= 50)]\n",
    "\n",
    "df_51_over = df[df['age'] >= 51]\n",
    "\n",
    "print(len(df_18_under), len(df_19_25), len(df_26_35), len(df_36_50), len(df_51_over))\n",
    "\n"
   ]
  },
  {
   "cell_type": "code",
   "execution_count": 65,
   "id": "21ea977b-ebca-4067-b97f-5b1ffa2d1f9b",
   "metadata": {},
   "outputs": [
    {
     "name": "stdout",
     "output_type": "stream",
     "text": [
      "Q6. Age group with most sets purchased: 36-50\n"
     ]
    }
   ],
   "source": [
    "quantity_sums = {\n",
    "    '18 and under': df_18_under['quantity'].sum(),\n",
    "    '19-25': df_19_25['quantity'].sum(),\n",
    "    '26-35': df_26_35['quantity'].sum(),\n",
    "    '36-50': df_36_50['quantity'].sum(),\n",
    "    '51 and over': df_51_over['quantity'].sum()\n",
    "}\n",
    "\n",
    "max_quantity_group = max(quantity_sums, key=quantity_sums.get)\n",
    "print(\"Q6. Age group with most sets purchased:\", max_quantity_group)\n"
   ]
  },
  {
   "cell_type": "code",
   "execution_count": 69,
   "id": "91894898-6579-41b5-8a5f-59f08691272b",
   "metadata": {},
   "outputs": [
    {
     "name": "stdout",
     "output_type": "stream",
     "text": [
      "Q7. Age group that spent the most: 36-50\n"
     ]
    }
   ],
   "source": [
    "spending_sums = {\n",
    "    '18 and under': (df_18_under['quantity'] * df_18_under['us_price']).sum(),\n",
    "    '19-25': (df_19_25['quantity'] * df_19_25['us_price']).sum(),\n",
    "    '26-35': (df_26_35['quantity'] * df_26_35['us_price']).sum(),\n",
    "    '36-50': (df_36_50['quantity'] * df_36_50['us_price']).sum(),\n",
    "    '51 and over': (df_51_over['quantity'] * df_51_over['us_price']).sum()\n",
    "}\n",
    "\n",
    "max_spending_group = max(spending_sums, key=spending_sums.get)\n",
    "print(\"Q7. Age group that spent the most:\", max_spending_group)\n"
   ]
  },
  {
   "cell_type": "code",
   "execution_count": 71,
   "id": "0ef04f3d-a11e-400a-a2a0-0b185b93c857",
   "metadata": {},
   "outputs": [
    {
     "name": "stdout",
     "output_type": "stream",
     "text": [
      "Q8. Theme that made the most money: Star Wars\n",
      "Total revenue for this theme: $ 4447.83\n"
     ]
    }
   ],
   "source": [
    "df['total_spent'] = df['quantity'] * df['us_price']\n",
    "theme_revenue = df.groupby('theme')['total_spent'].sum()\n",
    "\n",
    "top_theme = theme_revenue.idxmax()\n",
    "top_revenue = theme_revenue.max()\n",
    "\n",
    "print(\"Q8. Theme that made the most money:\", top_theme)\n",
    "print(\"Total revenue for this theme: $\", top_revenue)\n"
   ]
  },
  {
   "cell_type": "code",
   "execution_count": 74,
   "id": "8a1e39e9-c551-4c1e-9672-520ca46f8508",
   "metadata": {},
   "outputs": [
    {
     "name": "stdout",
     "output_type": "stream",
     "text": [
      "Q9. Area code that spent the most: 956\n",
      "Total revenue for this area code: $ 719.96\n"
     ]
    },
    {
     "name": "stderr",
     "output_type": "stream",
     "text": [
      "C:\\Users\\ambsc\\AppData\\Local\\Temp\\ipykernel_4744\\3754779813.py:14: RuntimeWarning:\n",
      "\n",
      "invalid value encountered in scalar divide\n",
      "\n"
     ]
    }
   ],
   "source": [
    "df['area_code'] = df['phone_number'].str[:3]\n",
    "df['total_spent'] = df['quantity'] * df['us_price']\n",
    "area_code_revenue = df.groupby('area_code')['total_spent'].sum()\n",
    "\n",
    "top_area_code = area_code_revenue.idxmax()\n",
    "top_revenue = area_code_revenue.max()\n",
    "print(\"Q9. Area code that spent the most:\", top_area_code)\n",
    "print(\"Total revenue for this area code: $\", top_revenue)\n",
    "\n",
    "avg_spent_per_area = {}\n",
    "for code in df['area_code'].unique():\n",
    "    total_spent = df[df['area_code'] == code]['total_spent'].sum()\n",
    "    num_customers = df[df['area_code'] == code]['first_name'].nunique()  # count unique customers\n",
    "    avg_spent_per_area[code] = total_spent / num_customers\n",
    "\n"
   ]
  },
  {
   "cell_type": "code",
   "execution_count": 81,
   "id": "c718b03c-51a0-44b2-afd8-0939622e726d",
   "metadata": {},
   "outputs": [
    {
     "name": "stdout",
     "output_type": "stream",
     "text": [
      "For the 18 and under age group, they purchase more 'Mixels' sets.\n",
      "For the 19-25 age group, they purchase more 'Nexo Knights' sets.\n",
      "For the 26-35 age group, they purchase more 'Star Wars' sets.\n",
      "For the 36-50 age group, they purchase more 'Star Wars' sets.\n",
      "For the 51 and over age group, they purchase more 'Star Wars' sets.\n"
     ]
    }
   ],
   "source": [
    "#Q10. Which theme of lego does each age group prefer?\n",
    "\n",
    "def most_common_theme(df_group):\n",
    "    return df_group['theme'].value_counts().idxmax()\n",
    "\n",
    "age_groups = {\n",
    "    '18 and under': df_18_under,\n",
    "    '19-25': df_19_25,\n",
    "    '26-35': df_26_35,\n",
    "    '36-50': df_36_50,\n",
    "    '51 and over': df_51_over\n",
    "}\n",
    "for age_group, df_group in age_groups.items():\n",
    "    top_theme = most_common_theme(df_group)\n",
    "    print(f\"For the {age_group} age group, they purchase more '{top_theme}' sets.\")\n",
    "\n"
   ]
  },
  {
   "cell_type": "markdown",
   "id": "1bf0a579-caf4-4232-9e3b-beddfc7b659e",
   "metadata": {},
   "source": [
    "Q10. This visualization asks what the most common theme for each age group is. This answers that question by showing the age groups and then showing their most popular theme that they purchase. Star Wars is most popular for 26 and up. Nexo Knights is most popular with 19-25yr olds and 18 and under prefer Mixel sets"
   ]
  },
  {
   "cell_type": "code",
   "execution_count": null,
   "id": "c38d6e40-1ba7-4051-b1ba-c8d1bcaddb17",
   "metadata": {},
   "outputs": [],
   "source": []
  }
 ],
 "metadata": {
  "kernelspec": {
   "display_name": "Python 3 (ipykernel)",
   "language": "python",
   "name": "python3"
  },
  "language_info": {
   "codemirror_mode": {
    "name": "ipython",
    "version": 3
   },
   "file_extension": ".py",
   "mimetype": "text/x-python",
   "name": "python",
   "nbconvert_exporter": "python",
   "pygments_lexer": "ipython3",
   "version": "3.13.5"
  }
 },
 "nbformat": 4,
 "nbformat_minor": 5
}
